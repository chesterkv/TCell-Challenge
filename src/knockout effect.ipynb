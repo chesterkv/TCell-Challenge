{
 "cells": [
  {
   "cell_type": "code",
   "execution_count": 1,
   "metadata": {},
   "outputs": [],
   "source": [
    "import pandas as pd"
   ]
  },
  {
   "cell_type": "code",
   "execution_count": 2,
   "metadata": {},
   "outputs": [
    {
     "name": "stdout",
     "output_type": "stream",
     "text": [
      "scanpy==1.9.1 anndata==0.8.0 umap==0.5.3 numpy==1.23.2 scipy==1.9.1 pandas==1.5.0 scikit-learn==1.1.2 statsmodels==0.13.5 pynndescent==0.5.8\n"
     ]
    }
   ],
   "source": [
    "import scanpy as sc\n",
    "\n",
    "from warnings import filterwarnings\n",
    "filterwarnings('ignore')\n",
    "\n",
    "sc.settings.verbosity = 3\n",
    "sc.logging.print_header()\n",
    "sc.settings.set_figure_params(dpi=80, facecolor='white')"
   ]
  },
  {
   "cell_type": "code",
   "execution_count": 3,
   "metadata": {},
   "outputs": [
    {
     "data": {
      "text/plain": [
       "AnnData object with n_obs × n_vars = 28697 × 15077\n",
       "    obs: 'gRNA_maxID', 'state', 'condition', 'lane'\n",
       "    layers: 'rawcounts'"
      ]
     },
     "execution_count": 3,
     "metadata": {},
     "output_type": "execute_result"
    }
   ],
   "source": [
    "adata = sc.read_h5ad('../data/sc_training.h5ad')\n",
    "adata"
   ]
  },
  {
   "cell_type": "code",
   "execution_count": 4,
   "metadata": {},
   "outputs": [
    {
     "data": {
      "text/plain": [
       "<28697x15077 sparse matrix of type '<class 'numpy.float32'>'\n",
       "\twith 80497219 stored elements in Compressed Sparse Row format>"
      ]
     },
     "execution_count": 4,
     "metadata": {},
     "output_type": "execute_result"
    }
   ],
   "source": [
    "adata.X"
   ]
  },
  {
   "cell_type": "code",
   "execution_count": 5,
   "metadata": {},
   "outputs": [],
   "source": [
    "df = pd.DataFrame(adata.X.toarray(), columns=adata.var_names, index=adata.obs_names)\n",
    "\n",
    "# merge df with adata.obs\n",
    "df = pd.concat([adata.obs, df], axis=1)"
   ]
  },
  {
   "cell_type": "code",
   "execution_count": 6,
   "metadata": {},
   "outputs": [
    {
     "data": {
      "text/html": [
       "<div>\n",
       "<style scoped>\n",
       "    .dataframe tbody tr th:only-of-type {\n",
       "        vertical-align: middle;\n",
       "    }\n",
       "\n",
       "    .dataframe tbody tr th {\n",
       "        vertical-align: top;\n",
       "    }\n",
       "\n",
       "    .dataframe thead th {\n",
       "        text-align: right;\n",
       "    }\n",
       "</style>\n",
       "<table border=\"1\" class=\"dataframe\">\n",
       "  <thead>\n",
       "    <tr style=\"text-align: right;\">\n",
       "      <th></th>\n",
       "      <th>gRNA_maxID</th>\n",
       "      <th>state</th>\n",
       "      <th>condition</th>\n",
       "      <th>lane</th>\n",
       "      <th>Mrpl15</th>\n",
       "      <th>Lypla1</th>\n",
       "      <th>Tcea1</th>\n",
       "      <th>Atp6v1h</th>\n",
       "      <th>Rb1cc1</th>\n",
       "      <th>4732440D04Rik</th>\n",
       "      <th>...</th>\n",
       "      <th>Slc3a1</th>\n",
       "      <th>Cfap53</th>\n",
       "      <th>Pstpip2</th>\n",
       "      <th>Gm17227</th>\n",
       "      <th>Ms4a8a</th>\n",
       "      <th>9130016M20Rik</th>\n",
       "      <th>Htr7</th>\n",
       "      <th>Col17a1</th>\n",
       "      <th>Awat2</th>\n",
       "      <th>Amot</th>\n",
       "    </tr>\n",
       "  </thead>\n",
       "  <tbody>\n",
       "    <tr>\n",
       "      <th>053l1_AAACCTGAGATGTCGG-1</th>\n",
       "      <td>ONE-NON-GENE-SITE-7</td>\n",
       "      <td>terminal exhausted</td>\n",
       "      <td>Unperturbed</td>\n",
       "      <td>lane1</td>\n",
       "      <td>0.511520</td>\n",
       "      <td>0.000000</td>\n",
       "      <td>0.000000</td>\n",
       "      <td>0.000000</td>\n",
       "      <td>0.000000</td>\n",
       "      <td>0.000000</td>\n",
       "      <td>...</td>\n",
       "      <td>0.0</td>\n",
       "      <td>0.0</td>\n",
       "      <td>0.0</td>\n",
       "      <td>0.0</td>\n",
       "      <td>0.0</td>\n",
       "      <td>0.0</td>\n",
       "      <td>0.0</td>\n",
       "      <td>0.0</td>\n",
       "      <td>0.0</td>\n",
       "      <td>0.0</td>\n",
       "    </tr>\n",
       "    <tr>\n",
       "      <th>053l1_AAACCTGAGCAACGGT-1</th>\n",
       "      <td>Tox2-3</td>\n",
       "      <td>effector</td>\n",
       "      <td>Tox2</td>\n",
       "      <td>lane1</td>\n",
       "      <td>0.484165</td>\n",
       "      <td>0.484165</td>\n",
       "      <td>0.808991</td>\n",
       "      <td>0.000000</td>\n",
       "      <td>0.000000</td>\n",
       "      <td>0.000000</td>\n",
       "      <td>...</td>\n",
       "      <td>0.0</td>\n",
       "      <td>0.0</td>\n",
       "      <td>0.0</td>\n",
       "      <td>0.0</td>\n",
       "      <td>0.0</td>\n",
       "      <td>0.0</td>\n",
       "      <td>0.0</td>\n",
       "      <td>0.0</td>\n",
       "      <td>0.0</td>\n",
       "      <td>0.0</td>\n",
       "    </tr>\n",
       "    <tr>\n",
       "      <th>053l1_AAACCTGAGTACGACG-1</th>\n",
       "      <td>Tpt1-2</td>\n",
       "      <td>effector</td>\n",
       "      <td>Tpt1</td>\n",
       "      <td>lane1</td>\n",
       "      <td>0.000000</td>\n",
       "      <td>0.000000</td>\n",
       "      <td>0.000000</td>\n",
       "      <td>0.000000</td>\n",
       "      <td>0.000000</td>\n",
       "      <td>0.000000</td>\n",
       "      <td>...</td>\n",
       "      <td>0.0</td>\n",
       "      <td>0.0</td>\n",
       "      <td>0.0</td>\n",
       "      <td>0.0</td>\n",
       "      <td>0.0</td>\n",
       "      <td>0.0</td>\n",
       "      <td>0.0</td>\n",
       "      <td>0.0</td>\n",
       "      <td>0.0</td>\n",
       "      <td>0.0</td>\n",
       "    </tr>\n",
       "    <tr>\n",
       "      <th>053l1_AAACCTGAGTCGTTTG-1</th>\n",
       "      <td>Tox2-3</td>\n",
       "      <td>terminal exhausted</td>\n",
       "      <td>Tox2</td>\n",
       "      <td>lane1</td>\n",
       "      <td>0.000000</td>\n",
       "      <td>0.000000</td>\n",
       "      <td>0.000000</td>\n",
       "      <td>0.000000</td>\n",
       "      <td>0.000000</td>\n",
       "      <td>0.000000</td>\n",
       "      <td>...</td>\n",
       "      <td>0.0</td>\n",
       "      <td>0.0</td>\n",
       "      <td>0.0</td>\n",
       "      <td>0.0</td>\n",
       "      <td>0.0</td>\n",
       "      <td>0.0</td>\n",
       "      <td>0.0</td>\n",
       "      <td>0.0</td>\n",
       "      <td>0.0</td>\n",
       "      <td>0.0</td>\n",
       "    </tr>\n",
       "    <tr>\n",
       "      <th>053l1_AAACCTGAGTGAAGAG-1</th>\n",
       "      <td>Tcf7-2</td>\n",
       "      <td>effector</td>\n",
       "      <td>Tcf7</td>\n",
       "      <td>lane1</td>\n",
       "      <td>0.000000</td>\n",
       "      <td>0.000000</td>\n",
       "      <td>0.000000</td>\n",
       "      <td>0.000000</td>\n",
       "      <td>0.000000</td>\n",
       "      <td>0.000000</td>\n",
       "      <td>...</td>\n",
       "      <td>0.0</td>\n",
       "      <td>0.0</td>\n",
       "      <td>0.0</td>\n",
       "      <td>0.0</td>\n",
       "      <td>0.0</td>\n",
       "      <td>0.0</td>\n",
       "      <td>0.0</td>\n",
       "      <td>0.0</td>\n",
       "      <td>0.0</td>\n",
       "      <td>0.0</td>\n",
       "    </tr>\n",
       "    <tr>\n",
       "      <th>...</th>\n",
       "      <td>...</td>\n",
       "      <td>...</td>\n",
       "      <td>...</td>\n",
       "      <td>...</td>\n",
       "      <td>...</td>\n",
       "      <td>...</td>\n",
       "      <td>...</td>\n",
       "      <td>...</td>\n",
       "      <td>...</td>\n",
       "      <td>...</td>\n",
       "      <td>...</td>\n",
       "      <td>...</td>\n",
       "      <td>...</td>\n",
       "      <td>...</td>\n",
       "      <td>...</td>\n",
       "      <td>...</td>\n",
       "      <td>...</td>\n",
       "      <td>...</td>\n",
       "      <td>...</td>\n",
       "      <td>...</td>\n",
       "      <td>...</td>\n",
       "    </tr>\n",
       "    <tr>\n",
       "      <th>053l4_TTTGTCATCAGGTTCA-1</th>\n",
       "      <td>Tox2-3</td>\n",
       "      <td>other</td>\n",
       "      <td>Tox2</td>\n",
       "      <td>lane4</td>\n",
       "      <td>0.000000</td>\n",
       "      <td>0.000000</td>\n",
       "      <td>0.000000</td>\n",
       "      <td>0.000000</td>\n",
       "      <td>0.000000</td>\n",
       "      <td>0.000000</td>\n",
       "      <td>...</td>\n",
       "      <td>0.0</td>\n",
       "      <td>0.0</td>\n",
       "      <td>0.0</td>\n",
       "      <td>0.0</td>\n",
       "      <td>0.0</td>\n",
       "      <td>0.0</td>\n",
       "      <td>0.0</td>\n",
       "      <td>0.0</td>\n",
       "      <td>0.0</td>\n",
       "      <td>0.0</td>\n",
       "    </tr>\n",
       "    <tr>\n",
       "      <th>053l4_TTTGTCATCAGTGTTG-1</th>\n",
       "      <td>Dvl2-3</td>\n",
       "      <td>cycling</td>\n",
       "      <td>Dvl2</td>\n",
       "      <td>lane4</td>\n",
       "      <td>0.530879</td>\n",
       "      <td>0.300263</td>\n",
       "      <td>0.875825</td>\n",
       "      <td>0.300263</td>\n",
       "      <td>0.000000</td>\n",
       "      <td>0.000000</td>\n",
       "      <td>...</td>\n",
       "      <td>0.0</td>\n",
       "      <td>0.0</td>\n",
       "      <td>0.0</td>\n",
       "      <td>0.0</td>\n",
       "      <td>0.0</td>\n",
       "      <td>0.0</td>\n",
       "      <td>0.0</td>\n",
       "      <td>0.0</td>\n",
       "      <td>0.0</td>\n",
       "      <td>0.0</td>\n",
       "    </tr>\n",
       "    <tr>\n",
       "      <th>053l4_TTTGTCATCCTCGCAT-1</th>\n",
       "      <td>Zeb2-2</td>\n",
       "      <td>cycling</td>\n",
       "      <td>Zeb2</td>\n",
       "      <td>lane4</td>\n",
       "      <td>0.000000</td>\n",
       "      <td>0.000000</td>\n",
       "      <td>0.000000</td>\n",
       "      <td>0.515672</td>\n",
       "      <td>0.515672</td>\n",
       "      <td>0.000000</td>\n",
       "      <td>...</td>\n",
       "      <td>0.0</td>\n",
       "      <td>0.0</td>\n",
       "      <td>0.0</td>\n",
       "      <td>0.0</td>\n",
       "      <td>0.0</td>\n",
       "      <td>0.0</td>\n",
       "      <td>0.0</td>\n",
       "      <td>0.0</td>\n",
       "      <td>0.0</td>\n",
       "      <td>0.0</td>\n",
       "    </tr>\n",
       "    <tr>\n",
       "      <th>053l4_TTTGTCATCTTCAACT-1</th>\n",
       "      <td>Sox4-3</td>\n",
       "      <td>cycling</td>\n",
       "      <td>Sox4</td>\n",
       "      <td>lane4</td>\n",
       "      <td>0.383328</td>\n",
       "      <td>0.000000</td>\n",
       "      <td>0.383328</td>\n",
       "      <td>0.000000</td>\n",
       "      <td>0.383328</td>\n",
       "      <td>0.000000</td>\n",
       "      <td>...</td>\n",
       "      <td>0.0</td>\n",
       "      <td>0.0</td>\n",
       "      <td>0.0</td>\n",
       "      <td>0.0</td>\n",
       "      <td>0.0</td>\n",
       "      <td>0.0</td>\n",
       "      <td>0.0</td>\n",
       "      <td>0.0</td>\n",
       "      <td>0.0</td>\n",
       "      <td>0.0</td>\n",
       "    </tr>\n",
       "    <tr>\n",
       "      <th>053l4_TTTGTCATCTTTCCTC-1</th>\n",
       "      <td>Dvl2-3</td>\n",
       "      <td>cycling</td>\n",
       "      <td>Dvl2</td>\n",
       "      <td>lane4</td>\n",
       "      <td>0.000000</td>\n",
       "      <td>0.000000</td>\n",
       "      <td>0.000000</td>\n",
       "      <td>0.857639</td>\n",
       "      <td>0.000000</td>\n",
       "      <td>0.857639</td>\n",
       "      <td>...</td>\n",
       "      <td>0.0</td>\n",
       "      <td>0.0</td>\n",
       "      <td>0.0</td>\n",
       "      <td>0.0</td>\n",
       "      <td>0.0</td>\n",
       "      <td>0.0</td>\n",
       "      <td>0.0</td>\n",
       "      <td>0.0</td>\n",
       "      <td>0.0</td>\n",
       "      <td>0.0</td>\n",
       "    </tr>\n",
       "  </tbody>\n",
       "</table>\n",
       "<p>28697 rows × 15081 columns</p>\n",
       "</div>"
      ],
      "text/plain": [
       "                                   gRNA_maxID               state  \\\n",
       "053l1_AAACCTGAGATGTCGG-1  ONE-NON-GENE-SITE-7  terminal exhausted   \n",
       "053l1_AAACCTGAGCAACGGT-1               Tox2-3            effector   \n",
       "053l1_AAACCTGAGTACGACG-1               Tpt1-2            effector   \n",
       "053l1_AAACCTGAGTCGTTTG-1               Tox2-3  terminal exhausted   \n",
       "053l1_AAACCTGAGTGAAGAG-1               Tcf7-2            effector   \n",
       "...                                       ...                 ...   \n",
       "053l4_TTTGTCATCAGGTTCA-1               Tox2-3               other   \n",
       "053l4_TTTGTCATCAGTGTTG-1               Dvl2-3             cycling   \n",
       "053l4_TTTGTCATCCTCGCAT-1               Zeb2-2             cycling   \n",
       "053l4_TTTGTCATCTTCAACT-1               Sox4-3             cycling   \n",
       "053l4_TTTGTCATCTTTCCTC-1               Dvl2-3             cycling   \n",
       "\n",
       "                            condition   lane    Mrpl15    Lypla1     Tcea1  \\\n",
       "053l1_AAACCTGAGATGTCGG-1  Unperturbed  lane1  0.511520  0.000000  0.000000   \n",
       "053l1_AAACCTGAGCAACGGT-1         Tox2  lane1  0.484165  0.484165  0.808991   \n",
       "053l1_AAACCTGAGTACGACG-1         Tpt1  lane1  0.000000  0.000000  0.000000   \n",
       "053l1_AAACCTGAGTCGTTTG-1         Tox2  lane1  0.000000  0.000000  0.000000   \n",
       "053l1_AAACCTGAGTGAAGAG-1         Tcf7  lane1  0.000000  0.000000  0.000000   \n",
       "...                               ...    ...       ...       ...       ...   \n",
       "053l4_TTTGTCATCAGGTTCA-1         Tox2  lane4  0.000000  0.000000  0.000000   \n",
       "053l4_TTTGTCATCAGTGTTG-1         Dvl2  lane4  0.530879  0.300263  0.875825   \n",
       "053l4_TTTGTCATCCTCGCAT-1         Zeb2  lane4  0.000000  0.000000  0.000000   \n",
       "053l4_TTTGTCATCTTCAACT-1         Sox4  lane4  0.383328  0.000000  0.383328   \n",
       "053l4_TTTGTCATCTTTCCTC-1         Dvl2  lane4  0.000000  0.000000  0.000000   \n",
       "\n",
       "                           Atp6v1h    Rb1cc1  4732440D04Rik  ...  Slc3a1  \\\n",
       "053l1_AAACCTGAGATGTCGG-1  0.000000  0.000000       0.000000  ...     0.0   \n",
       "053l1_AAACCTGAGCAACGGT-1  0.000000  0.000000       0.000000  ...     0.0   \n",
       "053l1_AAACCTGAGTACGACG-1  0.000000  0.000000       0.000000  ...     0.0   \n",
       "053l1_AAACCTGAGTCGTTTG-1  0.000000  0.000000       0.000000  ...     0.0   \n",
       "053l1_AAACCTGAGTGAAGAG-1  0.000000  0.000000       0.000000  ...     0.0   \n",
       "...                            ...       ...            ...  ...     ...   \n",
       "053l4_TTTGTCATCAGGTTCA-1  0.000000  0.000000       0.000000  ...     0.0   \n",
       "053l4_TTTGTCATCAGTGTTG-1  0.300263  0.000000       0.000000  ...     0.0   \n",
       "053l4_TTTGTCATCCTCGCAT-1  0.515672  0.515672       0.000000  ...     0.0   \n",
       "053l4_TTTGTCATCTTCAACT-1  0.000000  0.383328       0.000000  ...     0.0   \n",
       "053l4_TTTGTCATCTTTCCTC-1  0.857639  0.000000       0.857639  ...     0.0   \n",
       "\n",
       "                          Cfap53  Pstpip2  Gm17227  Ms4a8a  9130016M20Rik  \\\n",
       "053l1_AAACCTGAGATGTCGG-1     0.0      0.0      0.0     0.0            0.0   \n",
       "053l1_AAACCTGAGCAACGGT-1     0.0      0.0      0.0     0.0            0.0   \n",
       "053l1_AAACCTGAGTACGACG-1     0.0      0.0      0.0     0.0            0.0   \n",
       "053l1_AAACCTGAGTCGTTTG-1     0.0      0.0      0.0     0.0            0.0   \n",
       "053l1_AAACCTGAGTGAAGAG-1     0.0      0.0      0.0     0.0            0.0   \n",
       "...                          ...      ...      ...     ...            ...   \n",
       "053l4_TTTGTCATCAGGTTCA-1     0.0      0.0      0.0     0.0            0.0   \n",
       "053l4_TTTGTCATCAGTGTTG-1     0.0      0.0      0.0     0.0            0.0   \n",
       "053l4_TTTGTCATCCTCGCAT-1     0.0      0.0      0.0     0.0            0.0   \n",
       "053l4_TTTGTCATCTTCAACT-1     0.0      0.0      0.0     0.0            0.0   \n",
       "053l4_TTTGTCATCTTTCCTC-1     0.0      0.0      0.0     0.0            0.0   \n",
       "\n",
       "                          Htr7  Col17a1  Awat2  Amot  \n",
       "053l1_AAACCTGAGATGTCGG-1   0.0      0.0    0.0   0.0  \n",
       "053l1_AAACCTGAGCAACGGT-1   0.0      0.0    0.0   0.0  \n",
       "053l1_AAACCTGAGTACGACG-1   0.0      0.0    0.0   0.0  \n",
       "053l1_AAACCTGAGTCGTTTG-1   0.0      0.0    0.0   0.0  \n",
       "053l1_AAACCTGAGTGAAGAG-1   0.0      0.0    0.0   0.0  \n",
       "...                        ...      ...    ...   ...  \n",
       "053l4_TTTGTCATCAGGTTCA-1   0.0      0.0    0.0   0.0  \n",
       "053l4_TTTGTCATCAGTGTTG-1   0.0      0.0    0.0   0.0  \n",
       "053l4_TTTGTCATCCTCGCAT-1   0.0      0.0    0.0   0.0  \n",
       "053l4_TTTGTCATCTTCAACT-1   0.0      0.0    0.0   0.0  \n",
       "053l4_TTTGTCATCTTTCCTC-1   0.0      0.0    0.0   0.0  \n",
       "\n",
       "[28697 rows x 15081 columns]"
      ]
     },
     "execution_count": 6,
     "metadata": {},
     "output_type": "execute_result"
    }
   ],
   "source": [
    "df"
   ]
  },
  {
   "cell_type": "code",
   "execution_count": 135,
   "metadata": {},
   "outputs": [],
   "source": [
    "# calculate the mean of each gene for condition \"Unperturbed\"\n",
    "unperturbed_mean = pd.DataFrame(df[df['condition'] == 'Unperturbed'].mean(axis=0), columns=['unperturbed_mean'])\n",
    "unperturbed_mean.reset_index(inplace=True)"
   ]
  },
  {
   "cell_type": "code",
   "execution_count": 136,
   "metadata": {},
   "outputs": [],
   "source": [
    "# calculate the mean of each condition\n",
    "condition_mean = []\n",
    "for condition in df['condition'].unique():\n",
    "    if condition == 'Unperturbed':\n",
    "        continue\n",
    "    try:\n",
    "        condition_mean.append([condition, df[df['condition'] == condition][condition].mean()])\n",
    "    except:\n",
    "        pass\n",
    "condition_mean = pd.DataFrame(condition_mean, columns=['gene', 'perturbed_mean'])"
   ]
  },
  {
   "cell_type": "code",
   "execution_count": 137,
   "metadata": {},
   "outputs": [],
   "source": [
    "effect = condition_mean.merge(unperturbed_mean, left_on='gene', right_on='index', how='left')\n",
    "effect.drop(['index'], axis=1, inplace=True)\n",
    "\n",
    "# calculate effect\n",
    "effect['effect'] = effect['perturbed_mean'] - effect['unperturbed_mean']\n",
    "\n",
    "# calculate relative effect\n",
    "effect['rel_effect'] = effect['effect'] / effect['unperturbed_mean']"
   ]
  },
  {
   "cell_type": "code",
   "execution_count": 138,
   "metadata": {},
   "outputs": [
    {
     "data": {
      "text/html": [
       "<div>\n",
       "<style scoped>\n",
       "    .dataframe tbody tr th:only-of-type {\n",
       "        vertical-align: middle;\n",
       "    }\n",
       "\n",
       "    .dataframe tbody tr th {\n",
       "        vertical-align: top;\n",
       "    }\n",
       "\n",
       "    .dataframe thead th {\n",
       "        text-align: right;\n",
       "    }\n",
       "</style>\n",
       "<table border=\"1\" class=\"dataframe\">\n",
       "  <thead>\n",
       "    <tr style=\"text-align: right;\">\n",
       "      <th></th>\n",
       "      <th>gene</th>\n",
       "      <th>perturbed_mean</th>\n",
       "      <th>unperturbed_mean</th>\n",
       "      <th>effect</th>\n",
       "      <th>rel_effect</th>\n",
       "    </tr>\n",
       "  </thead>\n",
       "  <tbody>\n",
       "    <tr>\n",
       "      <th>0</th>\n",
       "      <td>Tox2</td>\n",
       "      <td>0.000449</td>\n",
       "      <td>0.003892</td>\n",
       "      <td>-0.003443</td>\n",
       "      <td>-0.884671</td>\n",
       "    </tr>\n",
       "  </tbody>\n",
       "</table>\n",
       "</div>"
      ],
      "text/plain": [
       "   gene  perturbed_mean  unperturbed_mean    effect  rel_effect\n",
       "0  Tox2        0.000449          0.003892 -0.003443   -0.884671"
      ]
     },
     "execution_count": 138,
     "metadata": {},
     "output_type": "execute_result"
    }
   ],
   "source": [
    "effect.loc[effect['gene'] == 'Tox2']"
   ]
  },
  {
   "cell_type": "code",
   "execution_count": 139,
   "metadata": {},
   "outputs": [
    {
     "data": {
      "text/html": [
       "<div>\n",
       "<style scoped>\n",
       "    .dataframe tbody tr th:only-of-type {\n",
       "        vertical-align: middle;\n",
       "    }\n",
       "\n",
       "    .dataframe tbody tr th {\n",
       "        vertical-align: top;\n",
       "    }\n",
       "\n",
       "    .dataframe thead th {\n",
       "        text-align: right;\n",
       "    }\n",
       "</style>\n",
       "<table border=\"1\" class=\"dataframe\">\n",
       "  <thead>\n",
       "    <tr style=\"text-align: right;\">\n",
       "      <th></th>\n",
       "      <th>perturbed_mean</th>\n",
       "      <th>unperturbed_mean</th>\n",
       "      <th>effect</th>\n",
       "      <th>rel_effect</th>\n",
       "    </tr>\n",
       "  </thead>\n",
       "  <tbody>\n",
       "    <tr>\n",
       "      <th>count</th>\n",
       "      <td>64.000000</td>\n",
       "      <td>64.000000</td>\n",
       "      <td>64.000000</td>\n",
       "      <td>63.000000</td>\n",
       "    </tr>\n",
       "    <tr>\n",
       "      <th>mean</th>\n",
       "      <td>0.294313</td>\n",
       "      <td>0.422421</td>\n",
       "      <td>-0.128108</td>\n",
       "      <td>-0.155324</td>\n",
       "    </tr>\n",
       "    <tr>\n",
       "      <th>std</th>\n",
       "      <td>0.439542</td>\n",
       "      <td>0.635425</td>\n",
       "      <td>0.252050</td>\n",
       "      <td>1.147777</td>\n",
       "    </tr>\n",
       "    <tr>\n",
       "      <th>min</th>\n",
       "      <td>0.000000</td>\n",
       "      <td>0.000000</td>\n",
       "      <td>-1.190472</td>\n",
       "      <td>-1.000000</td>\n",
       "    </tr>\n",
       "    <tr>\n",
       "      <th>25%</th>\n",
       "      <td>0.051511</td>\n",
       "      <td>0.056603</td>\n",
       "      <td>-0.123313</td>\n",
       "      <td>-0.515721</td>\n",
       "    </tr>\n",
       "    <tr>\n",
       "      <th>50%</th>\n",
       "      <td>0.157988</td>\n",
       "      <td>0.202545</td>\n",
       "      <td>-0.051039</td>\n",
       "      <td>-0.319946</td>\n",
       "    </tr>\n",
       "    <tr>\n",
       "      <th>75%</th>\n",
       "      <td>0.339338</td>\n",
       "      <td>0.408598</td>\n",
       "      <td>-0.000405</td>\n",
       "      <td>-0.041064</td>\n",
       "    </tr>\n",
       "    <tr>\n",
       "      <th>max</th>\n",
       "      <td>2.137093</td>\n",
       "      <td>3.142533</td>\n",
       "      <td>0.181518</td>\n",
       "      <td>8.085995</td>\n",
       "    </tr>\n",
       "  </tbody>\n",
       "</table>\n",
       "</div>"
      ],
      "text/plain": [
       "       perturbed_mean  unperturbed_mean     effect  rel_effect\n",
       "count       64.000000         64.000000  64.000000   63.000000\n",
       "mean         0.294313          0.422421  -0.128108   -0.155324\n",
       "std          0.439542          0.635425   0.252050    1.147777\n",
       "min          0.000000          0.000000  -1.190472   -1.000000\n",
       "25%          0.051511          0.056603  -0.123313   -0.515721\n",
       "50%          0.157988          0.202545  -0.051039   -0.319946\n",
       "75%          0.339338          0.408598  -0.000405   -0.041064\n",
       "max          2.137093          3.142533   0.181518    8.085995"
      ]
     },
     "execution_count": 139,
     "metadata": {},
     "output_type": "execute_result"
    }
   ],
   "source": [
    "effect.describe()"
   ]
  },
  {
   "cell_type": "code",
   "execution_count": 147,
   "metadata": {},
   "outputs": [
    {
     "data": {
      "text/plain": [
       "<AxesSubplot:>"
      ]
     },
     "execution_count": 147,
     "metadata": {},
     "output_type": "execute_result"
    },
    {
     "data": {
      "image/png": "[encoded data removed]",
      "text/plain": [
       "<Figure size 800x400 with 1 Axes>"
      ]
     },
     "metadata": {
      "image/png": {
       "height": 342,
       "width": 665
      }
     },
     "output_type": "display_data"
    }
   ],
   "source": [
    "# distribution of absolute effect\n",
    "effect['effect'].hist(bins=100, figsize=(10, 5))"
   ]
  },
  {
   "cell_type": "code",
   "execution_count": 141,
   "metadata": {},
   "outputs": [
    {
     "data": {
      "text/plain": [
       "<AxesSubplot:>"
      ]
     },
     "execution_count": 141,
     "metadata": {},
     "output_type": "execute_result"
    },
    {
     "data": {
      "image/png": "[encoded data removed]",
      "text/plain": [
       "<Figure size 800x400 with 1 Axes>"
      ]
     },
     "metadata": {
      "image/png": {
       "height": 342,
       "width": 656
      }
     },
     "output_type": "display_data"
    }
   ],
   "source": [
    "# distribution of relative effect\n",
    "effect['rel_effect'].hist(bins=100, figsize=(10, 5))"
   ]
  },
  {
   "cell_type": "code",
   "execution_count": 142,
   "metadata": {},
   "outputs": [
    {
     "data": {
      "text/html": [
       "<div>\n",
       "<style scoped>\n",
       "    .dataframe tbody tr th:only-of-type {\n",
       "        vertical-align: middle;\n",
       "    }\n",
       "\n",
       "    .dataframe tbody tr th {\n",
       "        vertical-align: top;\n",
       "    }\n",
       "\n",
       "    .dataframe thead th {\n",
       "        text-align: right;\n",
       "    }\n",
       "</style>\n",
       "<table border=\"1\" class=\"dataframe\">\n",
       "  <thead>\n",
       "    <tr style=\"text-align: right;\">\n",
       "      <th></th>\n",
       "      <th>gene</th>\n",
       "      <th>perturbed_mean</th>\n",
       "      <th>unperturbed_mean</th>\n",
       "      <th>effect</th>\n",
       "      <th>rel_effect</th>\n",
       "    </tr>\n",
       "  </thead>\n",
       "  <tbody>\n",
       "    <tr>\n",
       "      <th>42</th>\n",
       "      <td>Id3</td>\n",
       "      <td>0.071398</td>\n",
       "      <td>0.007858</td>\n",
       "      <td>0.063540</td>\n",
       "      <td>8.085995</td>\n",
       "    </tr>\n",
       "    <tr>\n",
       "      <th>38</th>\n",
       "      <td>Lef1</td>\n",
       "      <td>0.061662</td>\n",
       "      <td>0.028740</td>\n",
       "      <td>0.032922</td>\n",
       "      <td>1.145539</td>\n",
       "    </tr>\n",
       "    <tr>\n",
       "      <th>59</th>\n",
       "      <td>Myb</td>\n",
       "      <td>0.196600</td>\n",
       "      <td>0.099169</td>\n",
       "      <td>0.097431</td>\n",
       "      <td>0.982483</td>\n",
       "    </tr>\n",
       "    <tr>\n",
       "      <th>36</th>\n",
       "      <td>Egr1</td>\n",
       "      <td>0.404271</td>\n",
       "      <td>0.222753</td>\n",
       "      <td>0.181518</td>\n",
       "      <td>0.814885</td>\n",
       "    </tr>\n",
       "    <tr>\n",
       "      <th>24</th>\n",
       "      <td>Dvl3</td>\n",
       "      <td>0.046734</td>\n",
       "      <td>0.031543</td>\n",
       "      <td>0.015191</td>\n",
       "      <td>0.481585</td>\n",
       "    </tr>\n",
       "    <tr>\n",
       "      <th>2</th>\n",
       "      <td>Tcf7</td>\n",
       "      <td>0.053104</td>\n",
       "      <td>0.039141</td>\n",
       "      <td>0.013963</td>\n",
       "      <td>0.356725</td>\n",
       "    </tr>\n",
       "    <tr>\n",
       "      <th>41</th>\n",
       "      <td>Foxp1</td>\n",
       "      <td>0.179817</td>\n",
       "      <td>0.144424</td>\n",
       "      <td>0.035393</td>\n",
       "      <td>0.245060</td>\n",
       "    </tr>\n",
       "    <tr>\n",
       "      <th>33</th>\n",
       "      <td>Prdm1</td>\n",
       "      <td>0.063048</td>\n",
       "      <td>0.053430</td>\n",
       "      <td>0.009618</td>\n",
       "      <td>0.180020</td>\n",
       "    </tr>\n",
       "    <tr>\n",
       "      <th>50</th>\n",
       "      <td>Sp140</td>\n",
       "      <td>0.223248</td>\n",
       "      <td>0.196863</td>\n",
       "      <td>0.026385</td>\n",
       "      <td>0.134027</td>\n",
       "    </tr>\n",
       "    <tr>\n",
       "      <th>61</th>\n",
       "      <td>Batf</td>\n",
       "      <td>0.330519</td>\n",
       "      <td>0.304884</td>\n",
       "      <td>0.025635</td>\n",
       "      <td>0.084081</td>\n",
       "    </tr>\n",
       "  </tbody>\n",
       "</table>\n",
       "</div>"
      ],
      "text/plain": [
       "     gene  perturbed_mean  unperturbed_mean    effect  rel_effect\n",
       "42    Id3        0.071398          0.007858  0.063540    8.085995\n",
       "38   Lef1        0.061662          0.028740  0.032922    1.145539\n",
       "59    Myb        0.196600          0.099169  0.097431    0.982483\n",
       "36   Egr1        0.404271          0.222753  0.181518    0.814885\n",
       "24   Dvl3        0.046734          0.031543  0.015191    0.481585\n",
       "2    Tcf7        0.053104          0.039141  0.013963    0.356725\n",
       "41  Foxp1        0.179817          0.144424  0.035393    0.245060\n",
       "33  Prdm1        0.063048          0.053430  0.009618    0.180020\n",
       "50  Sp140        0.223248          0.196863  0.026385    0.134027\n",
       "61   Batf        0.330519          0.304884  0.025635    0.084081"
      ]
     },
     "execution_count": 142,
     "metadata": {},
     "output_type": "execute_result"
    }
   ],
   "source": [
    "effect.sort_values('rel_effect', ascending=False).head(10)"
   ]
  },
  {
   "cell_type": "code",
   "execution_count": 143,
   "metadata": {},
   "outputs": [
    {
     "data": {
      "text/plain": [
       "count    46.000000\n",
       "mean      0.071398\n",
       "std       0.301299\n",
       "min       0.000000\n",
       "25%       0.000000\n",
       "50%       0.000000\n",
       "75%       0.000000\n",
       "max       1.600853\n",
       "Name: Id3, dtype: float64"
      ]
     },
     "execution_count": 143,
     "metadata": {},
     "output_type": "execute_result"
    }
   ],
   "source": [
    "df[df['condition'] == 'Id3'][\"Id3\"].describe()"
   ]
  },
  {
   "cell_type": "code",
   "execution_count": 144,
   "metadata": {},
   "outputs": [
    {
     "data": {
      "text/plain": [
       "count    4978.000000\n",
       "mean        0.007858\n",
       "std         0.078080\n",
       "min         0.000000\n",
       "25%         0.000000\n",
       "50%         0.000000\n",
       "75%         0.000000\n",
       "max         1.776099\n",
       "Name: Id3, dtype: float64"
      ]
     },
     "execution_count": 144,
     "metadata": {},
     "output_type": "execute_result"
    }
   ],
   "source": [
    "df[df['condition'] == 'Unperturbed'][\"Id3\"].describe()"
   ]
  },
  {
   "cell_type": "code",
   "execution_count": 145,
   "metadata": {},
   "outputs": [
    {
     "data": {
      "text/plain": [
       "Unperturbed    4978\n",
       "Id3              46\n",
       "Name: condition, dtype: int64"
      ]
     },
     "execution_count": 145,
     "metadata": {},
     "output_type": "execute_result"
    }
   ],
   "source": [
    "df[\"condition\"].value_counts().loc[['Unperturbed', 'Id3']]"
   ]
  },
  {
   "cell_type": "code",
   "execution_count": 146,
   "metadata": {},
   "outputs": [
    {
     "data": {
      "text/plain": [
       "count      67.000000\n",
       "mean      354.014925\n",
       "std       659.373428\n",
       "min         0.000000\n",
       "25%        40.000000\n",
       "50%       134.000000\n",
       "75%       376.000000\n",
       "max      4333.000000\n",
       "Name: condition, dtype: float64"
      ]
     },
     "execution_count": 146,
     "metadata": {},
     "output_type": "execute_result"
    }
   ],
   "source": [
    "df[df[\"condition\"] != \"Unperturbed\"][\"condition\"].value_counts().describe()"
   ]
  },
  {
   "cell_type": "code",
   "execution_count": 157,
   "metadata": {},
   "outputs": [
    {
     "data": {
      "text/plain": [
       "<AxesSubplot:>"
      ]
     },
     "execution_count": 157,
     "metadata": {},
     "output_type": "execute_result"
    },
    {
     "data": {
      "image/png": "[encoded data removed]",
      "text/plain": [
       "<Figure size 1200x560 with 1 Axes>"
      ]
     },
     "metadata": {
      "image/png": {
       "height": 463,
       "width": 968
      }
     },
     "output_type": "display_data"
    }
   ],
   "source": [
    "# relative effect with outlier Id3 removed\n",
    "effect[effect[\"gene\"]!= \"Id3\"]['rel_effect'].hist(bins=50, figsize=(15, 7))"
   ]
  }
 ],
 "metadata": {
  "kernelspec": {
   "display_name": "Python 3",
   "language": "python",
   "name": "python3"
  },
  "language_info": {
   "codemirror_mode": {
    "name": "ipython",
    "version": 3
   },
   "file_extension": ".py",
   "mimetype": "text/x-python",
   "name": "python",
   "nbconvert_exporter": "python",
   "pygments_lexer": "ipython3",
   "version": "3.9.13 | packaged by conda-forge | (main, May 27 2022, 16:50:36) [MSC v.1929 64 bit (AMD64)]"
  },
  "orig_nbformat": 4,
  "vscode": {
   "interpreter": {
    "hash": "e4e03076ee28c055a5690ce4685a8b57f79eb170de6b294507e728ab874dee1a"
   }
  }
 },
 "nbformat": 4,
 "nbformat_minor": 2
}
